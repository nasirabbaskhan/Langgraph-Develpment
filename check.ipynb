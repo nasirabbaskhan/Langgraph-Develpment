{
 "cells": [
  {
   "cell_type": "code",
   "execution_count": 1,
   "metadata": {},
   "outputs": [
    {
     "name": "stdout",
     "output_type": "stream",
     "text": [
      "hi\n"
     ]
    }
   ],
   "source": [
    "print(\"hi\")"
   ]
  },
  {
   "cell_type": "code",
   "execution_count": 539,
   "metadata": {},
   "outputs": [
    {
     "name": "stdout",
     "output_type": "stream",
     "text": [
      "Tavily API Key: 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\n"
     ]
    }
   ],
   "source": [
    "from typing import Annotated\n",
    "\n",
    "from langchain_google_genai import GoogleGenerativeAI, ChatGoogleGenerativeAI\n",
    "from langchain_community.tools.tavily_search import TavilySearchResults\n",
    "from langchain_community.tools import DuckDuckGoSearchResults  # for more search result\n",
    "from langchain_community.tools import DuckDuckGoSearchRun\n",
    "\n",
    "from langchain_core.messages import BaseMessage\n",
    "from langchain_core.messages import HumanMessage, SystemMessage\n",
    "from IPython.display import Image, display\n",
    "from typing_extensions import TypedDict\n",
    "\n",
    "from langgraph.graph import MessagesState,StateGraph, END, START\n",
    "from langgraph.graph.message import add_messages\n",
    "from langgraph.prebuilt import ToolNode, tools_condition\n",
    "\n",
    "from dotenv import load_dotenv\n",
    "import os\n",
    "load_dotenv()\n",
    "\n",
    "GOOGLE_API_KEY  = os.getenv(\"GOOGLE_API_KEY\")\n",
    "\n",
    "tavily_api_key = os.getenv(\"Tavily_API_KEY\")\n",
    "print(\"Tavily API Key:\", os.getenv(\"TAVILY_API_KEY\"))"
   ]
  },
  {
   "cell_type": "code",
   "execution_count": 540,
   "metadata": {},
   "outputs": [],
   "source": [
    "from langchain_groq import ChatGroq\n",
    "llm = ChatGroq(   # poetry add langchain-groq\n",
    "    # model= \"Gemma2-9b-It\"\n",
    "    model=\"Llama3-8b-8192\",\n",
    "    temperature=0,\n",
    "    stop_sequences=\"\"\n",
    "    \n",
    ")"
   ]
  },
  {
   "cell_type": "code",
   "execution_count": 541,
   "metadata": {},
   "outputs": [],
   "source": [
    "\n",
    "# llm = llm = ChatGoogleGenerativeAI(\n",
    "#     model=\"gemini-1.5-flash\",\n",
    "#     temperature=0.2\n",
    "# )"
   ]
  },
  {
   "cell_type": "code",
   "execution_count": 542,
   "metadata": {},
   "outputs": [
    {
     "data": {
      "text/plain": [
       "AIMessage(content='LangGraph is a fascinating topic!\\n\\nLangGraph is a type of graph-based language model that represents language as a network of nodes and edges. In a LangGraph, each node represents a word, phrase, or concept, and the edges between nodes capture the relationships between them, such as semantic similarity, co-occurrence, or grammatical dependencies.\\n\\nThe LangGraph approach is inspired by the idea that language is a complex network of interconnected concepts, and by modeling language as a graph, researchers can capture the intricate relationships between words, phrases, and ideas. This can lead to improved language understanding, generation, and processing capabilities.\\n\\nSome key features of LangGraphs include:\\n\\n1. **Node representation**: Each node in the graph represents a word, phrase, or concept, and is typically associated with a set of features, such as word embeddings, part-of-speech tags, or named entity recognition labels.\\n2. **Edge representation**: The edges between nodes capture the relationships between them, such as:\\n\\t* **Semantic similarity**: Edges can represent the degree of semantic similarity between two nodes, based on their meanings or contexts.\\n\\t* **Co-occurrence**: Edges can capture the frequency or probability of two nodes co-occurring in a sentence or text.\\n\\t* **Grammatical dependencies**: Edges can represent the grammatical relationships between nodes, such as subject-verb-object relationships.\\n3. **Graph structure**: The graph structure can be designed to capture various aspects of language, such as:\\n\\t* **Hierarchical structure**: Edges can be organized in a hierarchical manner, reflecting the hierarchical nature of language.\\n\\t* **Community structure**: Nodes can be grouped into communities based on their semantic or syntactic properties.\\n4. **Applications**: LangGraphs have been applied to various NLP tasks, including:\\n\\t* **Language modeling**: LangGraphs can be used to generate text or predict the next word in a sequence.\\n\\t* **Question answering**: LangGraphs can be used to identify relevant nodes and edges to answer questions.\\n\\t* **Text classification**: LangGraphs can be used to classify text based on its semantic content.\\n\\nLangGraphs have shown promising results in various NLP tasks, and continue to be an active area of research in the field of natural language processing.', additional_kwargs={}, response_metadata={'token_usage': {'completion_tokens': 466, 'prompt_tokens': 14, 'total_tokens': 480, 'completion_time': 0.388333333, 'prompt_time': 0.002394813, 'queue_time': 0.019543882000000002, 'total_time': 0.390728146}, 'model_name': 'Llama3-8b-8192', 'system_fingerprint': 'fp_a97cfe35ae', 'finish_reason': 'stop', 'logprobs': None}, id='run-f61595bb-f0c1-425b-97e4-4e5342a1b913-0', usage_metadata={'input_tokens': 14, 'output_tokens': 466, 'total_tokens': 480})"
      ]
     },
     "execution_count": 542,
     "metadata": {},
     "output_type": "execute_result"
    }
   ],
   "source": [
    "response = llm.invoke(\"what is langgraph\")\n",
    "response"
   ]
  },
  {
   "cell_type": "code",
   "execution_count": 543,
   "metadata": {},
   "outputs": [],
   "source": [
    "def multiply(a:int, b:int):\n",
    "    \"\"\"\n",
    "    Multiply a and b\n",
    "    Args:\n",
    "      a: first int\n",
    "      b: second int\n",
    "    \"\"\"\n",
    "    return a*b"
   ]
  },
  {
   "cell_type": "code",
   "execution_count": 544,
   "metadata": {},
   "outputs": [],
   "source": [
    "def add(a:int, b:int):\n",
    "    \"\"\"\n",
    "    add a and b\n",
    "    Args:\n",
    "      a: first int\n",
    "      b: second int\n",
    "    \"\"\"\n",
    "    return a+b"
   ]
  },
  {
   "cell_type": "code",
   "execution_count": 545,
   "metadata": {},
   "outputs": [],
   "source": [
    "def divide(a:int, b:int):\n",
    "    \"\"\"\n",
    "    divide a and b\n",
    "    Args:\n",
    "      a: first int\n",
    "      b: second int\n",
    "    \"\"\"\n",
    "    return a/b"
   ]
  },
  {
   "cell_type": "code",
   "execution_count": 546,
   "metadata": {},
   "outputs": [],
   "source": [
    "# search = TavilySearchResults(\n",
    "#     max_results=5,\n",
    "#     search_depth=\"advanced\",\n",
    "#     include_answer=True,\n",
    "#     # include_raw_content=True,\n",
    "#     # include_images=True,\n",
    "#     )"
   ]
  },
  {
   "cell_type": "code",
   "execution_count": 547,
   "metadata": {},
   "outputs": [],
   "source": [
    "# search = DuckDuckGoSearchRun()"
   ]
  },
  {
   "cell_type": "code",
   "execution_count": 548,
   "metadata": {},
   "outputs": [],
   "source": [
    "search = DuckDuckGoSearchResults()"
   ]
  },
  {
   "cell_type": "code",
   "execution_count": 549,
   "metadata": {},
   "outputs": [
    {
     "data": {
      "text/plain": [
       "\"snippet: The White House, official residence of the president of the United States, in July 2008. The president of the United States is the head of state and head of government of the United States, [1] indirectly elected to a four-year term via the Electoral College. [2] Under the U.S. Constitution, the officeholder leads the executive branch of the federal government and is the commander-in-chief of ..., title: List of presidents of the United States - Wikipedia, link: https://en.wikipedia.org/wiki/List_of_Presidents_of_the_United_States, snippet: The president of the United States is the: U.S. head of state; Chief executive of the federal government; Commander-in-Chief of the armed forces; Current president. The 47th and current president of the United States is Donald John Trump. He was sworn into office on January 20, 2025. Former U.S. presidents. The United States has had 46 former U ..., title: Presidents, vice presidents, and first ladies - USAGov, link: https://www.usa.gov/presidents, snippet: Donald Trump was sworn in Monday as the 47th president of the United States in one of the most remarkable political comebacks in U.S. history., title: Trump sworn in as 47th president, declares 'America's ... - USA TODAY, link: https://www.usatoday.com/story/news/politics/elections/2025/01/20/donald-trump-sworn-in-as-47-president-inauguration/77755765007/, snippet: Donald Trump has officially become the 47th president of the United States. In a special ceremony called an inauguration , President Trump took over from Joe Biden as America's new leader., title: Donald Trump officially becomes new US president - BBC, link: https://www.bbc.co.uk/newsround/articles/ce3nq0rexqeo\""
      ]
     },
     "execution_count": 549,
     "metadata": {},
     "output_type": "execute_result"
    }
   ],
   "source": [
    "search.invoke(\"who is a current president of USA? \")"
   ]
  },
  {
   "cell_type": "code",
   "execution_count": 550,
   "metadata": {},
   "outputs": [],
   "source": [
    "tools = [search]"
   ]
  },
  {
   "cell_type": "code",
   "execution_count": 551,
   "metadata": {},
   "outputs": [],
   "source": [
    "llm_with_tools = llm.bind_tools(tools)"
   ]
  },
  {
   "cell_type": "code",
   "execution_count": 552,
   "metadata": {},
   "outputs": [
    {
     "data": {
      "text/plain": [
       "AIMessage(content='', additional_kwargs={'tool_calls': [{'id': 'call_rnz0', 'function': {'arguments': '{\"query\":\"who is the current president of the USA\"}', 'name': 'duckduckgo_results_json'}, 'type': 'function'}]}, response_metadata={'token_usage': {'completion_tokens': 76, 'prompt_tokens': 1906, 'total_tokens': 1982, 'completion_time': 0.063333333, 'prompt_time': 0.23955643, 'queue_time': -0.29830878699999996, 'total_time': 0.302889763}, 'model_name': 'Llama3-8b-8192', 'system_fingerprint': 'fp_179b0f92c9', 'finish_reason': 'tool_calls', 'logprobs': None}, id='run-dad74783-51bf-4050-9372-b253abce6a02-0', tool_calls=[{'name': 'duckduckgo_results_json', 'args': {'query': 'who is the current president of the USA'}, 'id': 'call_rnz0', 'type': 'tool_call'}], usage_metadata={'input_tokens': 1906, 'output_tokens': 76, 'total_tokens': 1982})"
      ]
     },
     "execution_count": 552,
     "metadata": {},
     "output_type": "execute_result"
    }
   ],
   "source": [
    "llm_with_tools.invoke(\"who is a current president of USA? \")"
   ]
  },
  {
   "cell_type": "code",
   "execution_count": 553,
   "metadata": {},
   "outputs": [],
   "source": [
    "# sys message\n",
    "sys_msg = SystemMessage(content=\"you are a helpful assistant tasked with using search and performing arithmatic operation \")"
   ]
  },
  {
   "cell_type": "code",
   "execution_count": 554,
   "metadata": {},
   "outputs": [],
   "source": [
    "def reasoner(state:MessagesState):\n",
    "    return {\"messages\": [llm_with_tools.invoke(state[\"messages\"])]}"
   ]
  },
  {
   "cell_type": "code",
   "execution_count": 555,
   "metadata": {},
   "outputs": [],
   "source": [
    "graph_builder = StateGraph(MessagesState)\n",
    "\n",
    "# add nodes\n",
    "graph_builder.add_node(\"reasoner\", reasoner)\n",
    "graph_builder.add_node(\"tools\", ToolNode(tools))\n",
    "\n",
    "# add ages\n",
    "graph_builder.add_edge(START, \"reasoner\")\n",
    "graph_builder.add_conditional_edges(\"reasoner\", tools_condition)\n",
    "graph_builder.add_edge(\"tools\",\"reasoner\" )\n",
    "graph = graph_builder.compile()"
   ]
  },
  {
   "cell_type": "markdown",
   "metadata": {},
   "source": []
  },
  {
   "cell_type": "code",
   "execution_count": 556,
   "metadata": {},
   "outputs": [
    {
     "data": {
      "image/png": "[encoded data removed]",
      "text/plain": [
       "<IPython.core.display.Image object>"
      ]
     },
     "metadata": {},
     "output_type": "display_data"
    }
   ],
   "source": [
    "# display the graph\n",
    "display(Image(graph.get_graph(xray=True).draw_mermaid_png()))"
   ]
  },
  {
   "cell_type": "code",
   "execution_count": 557,
   "metadata": {},
   "outputs": [],
   "source": [
    "def stream_graph_update(user_input:str):\n",
    "    # state = {\"messages\":[{\"role\":\"user\", \"content\":user_input}]}\n",
    "    state = {\"messages\":[user_input]}\n",
    "    config = {\"configurable\": {\"thread_id\": \"1\"}}\n",
    "    # config = {\"configurable\": {\"thread_id\": \"1\", \"user_id\": \"1\"}} # try this\n",
    "    \n",
    "    for event in graph.stream(state, config,):\n",
    "        for value in event.values():\n",
    "            print(\"Assistant:\", value[\"messages\"][-1].content)"
   ]
  },
  {
   "cell_type": "code",
   "execution_count": 559,
   "metadata": {},
   "outputs": [
    {
     "name": "stdout",
     "output_type": "stream",
     "text": [
      "Assistant: \n",
      "Assistant: snippet: Asif Ali Zardari is the current and 14th president of Pakistan since 2024, and the widower of former prime minister Benazir Bhutto. He was also the 11th president from 2008 to 2013, and the co-chairperson of Pakistan People's Party from 2007 to 2015., title: Asif Ali Zardari - Wikipedia, link: https://en.wikipedia.org/wiki/Asif_Ali_Zardari, snippet: Pakistan Peoples Party's co-chairperson Asif Ali Zardari has won a second term as Pakistan's president, supported by the ruling coalition in a vote by parliament and regional assemblies ..., title: Asif Ali Zardari elected Pakistan's president for second time, link: https://www.aljazeera.com/news/2024/3/9/asif-ali-zardari-elected-pakistans-president-for-second-time, snippet: Supporters Pakistan People's Party offer sweets to each other as they celebrate their leader Asif Ali Zardari elect as Pakistan's President, in Lahore, Pakistan, Saturday, March 9, 2023. Pakistan's lawmakers have chosen Zardari as the country's new president. It's his second time in the job. (AP Photo/K.M. Chaudary), title: Pakistan's lawmakers pick Asif Ali Zardari as the country's president ..., link: https://apnews.com/article/pakistan-president-asif-ali-zardari-imran-khan-ca74042f395b185cfeada5d7abaa133a, snippet: President Asif Ali Zardari became the 14th President of Pakistan to serve the country for a second term. Earlier, he had served the country as president during 2008-2013. He was elected for the constitutional slot by majority vote of the electoral college, comprising members of the Parliament and four provincial assemblies, on Saturday. ***, title: Asif Ali Zardari sworn in as the 14th President of Pakistan, link: https://president.gov.pk/news/asif-ali-zardari-sworn-in-as-president-of-pakistan-2\n",
      "Assistant: <tool-use>{\"tool_calls\":[]}</tool-use>\n",
      "None\n"
     ]
    }
   ],
   "source": [
    "# generating response\n",
    "response = stream_graph_update(\"who is a current president of Pakistan? \")\n",
    "print(response)"
   ]
  },
  {
   "cell_type": "code",
   "execution_count": null,
   "metadata": {},
   "outputs": [],
   "source": []
  },
  {
   "cell_type": "code",
   "execution_count": null,
   "metadata": {},
   "outputs": [],
   "source": []
  },
  {
   "cell_type": "code",
   "execution_count": null,
   "metadata": {},
   "outputs": [],
   "source": []
  },
  {
   "cell_type": "code",
   "execution_count": null,
   "metadata": {},
   "outputs": [],
   "source": []
  }
 ],
 "metadata": {
  "kernelspec": {
   "display_name": "langgraph_develpment-UPOC_DBW-py3.11",
   "language": "python",
   "name": "python3"
  },
  "language_info": {
   "codemirror_mode": {
    "name": "ipython",
    "version": 3
   },
   "file_extension": ".py",
   "mimetype": "text/x-python",
   "name": "python",
   "nbconvert_exporter": "python",
   "pygments_lexer": "ipython3",
   "version": "3.11.9"
  }
 },
 "nbformat": 4,
 "nbformat_minor": 2
}
